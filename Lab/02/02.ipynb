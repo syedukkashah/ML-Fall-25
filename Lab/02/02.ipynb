{
 "cells": [
  {
   "cell_type": "markdown",
   "id": "fe0e42cb",
   "metadata": {},
   "source": [
    "### Q1"
   ]
  },
  {
   "cell_type": "code",
   "execution_count": 2,
   "id": "646c2181",
   "metadata": {},
   "outputs": [],
   "source": [
    "import pandas as pd"
   ]
  },
  {
   "cell_type": "code",
   "execution_count": 3,
   "id": "14b70816",
   "metadata": {},
   "outputs": [],
   "source": [
    "d1a = pd.read_csv('Lab2 D1A.csv')\n",
    "d1b = pd.read_csv('Lab2 D1B.csv')\n",
    "d1c = pd.read_csv('Lab2 D1C.csv')"
   ]
  },
  {
   "cell_type": "code",
   "execution_count": 4,
   "id": "26996ff7",
   "metadata": {},
   "outputs": [
    {
     "data": {
      "text/html": [
       "<div>\n",
       "<style scoped>\n",
       "    .dataframe tbody tr th:only-of-type {\n",
       "        vertical-align: middle;\n",
       "    }\n",
       "\n",
       "    .dataframe tbody tr th {\n",
       "        vertical-align: top;\n",
       "    }\n",
       "\n",
       "    .dataframe thead th {\n",
       "        text-align: right;\n",
       "    }\n",
       "</style>\n",
       "<table border=\"1\" class=\"dataframe\">\n",
       "  <thead>\n",
       "    <tr style=\"text-align: right;\">\n",
       "      <th></th>\n",
       "      <th>fid</th>\n",
       "      <th>name</th>\n",
       "      <th>population</th>\n",
       "      <th>county</th>\n",
       "      <th>latitude</th>\n",
       "    </tr>\n",
       "  </thead>\n",
       "  <tbody>\n",
       "    <tr>\n",
       "      <th>0</th>\n",
       "      <td>9001</td>\n",
       "      <td>NEW ENGLAND CHRISTIAN ACADEMY</td>\n",
       "      <td>136</td>\n",
       "      <td>BRISTOL</td>\n",
       "      <td>41.758597</td>\n",
       "    </tr>\n",
       "    <tr>\n",
       "      <th>1</th>\n",
       "      <td>9002</td>\n",
       "      <td>SETON ACADEMY FOR GIRLS</td>\n",
       "      <td>57</td>\n",
       "      <td>BRISTOL</td>\n",
       "      <td>41.718407</td>\n",
       "    </tr>\n",
       "    <tr>\n",
       "      <th>2</th>\n",
       "      <td>9003</td>\n",
       "      <td>ST ANNA SCHOOL</td>\n",
       "      <td>157</td>\n",
       "      <td>WORCESTER</td>\n",
       "      <td>42.517271</td>\n",
       "    </tr>\n",
       "    <tr>\n",
       "      <th>3</th>\n",
       "      <td>9004</td>\n",
       "      <td>SOUTHEAST ALTERNATIVE SCHOOL-MIDDLE SCHOOL</td>\n",
       "      <td>5</td>\n",
       "      <td>PLYMOUTH</td>\n",
       "      <td>41.818210</td>\n",
       "    </tr>\n",
       "    <tr>\n",
       "      <th>4</th>\n",
       "      <td>9005</td>\n",
       "      <td>DEVEREUX SCHOOL</td>\n",
       "      <td>123</td>\n",
       "      <td>WORCESTER</td>\n",
       "      <td>42.383875</td>\n",
       "    </tr>\n",
       "  </tbody>\n",
       "</table>\n",
       "</div>"
      ],
      "text/plain": [
       "    fid                                        name  population     county  \\\n",
       "0  9001               NEW ENGLAND CHRISTIAN ACADEMY         136    BRISTOL   \n",
       "1  9002                     SETON ACADEMY FOR GIRLS          57    BRISTOL   \n",
       "2  9003                              ST ANNA SCHOOL         157  WORCESTER   \n",
       "3  9004  SOUTHEAST ALTERNATIVE SCHOOL-MIDDLE SCHOOL           5   PLYMOUTH   \n",
       "4  9005                             DEVEREUX SCHOOL         123  WORCESTER   \n",
       "\n",
       "    latitude  \n",
       "0  41.758597  \n",
       "1  41.718407  \n",
       "2  42.517271  \n",
       "3  41.818210  \n",
       "4  42.383875  "
      ]
     },
     "execution_count": 4,
     "metadata": {},
     "output_type": "execute_result"
    }
   ],
   "source": [
    "d1a.head()"
   ]
  },
  {
   "cell_type": "code",
   "execution_count": 5,
   "id": "df2c8e9a",
   "metadata": {},
   "outputs": [
    {
     "data": {
      "text/html": [
       "<div>\n",
       "<style scoped>\n",
       "    .dataframe tbody tr th:only-of-type {\n",
       "        vertical-align: middle;\n",
       "    }\n",
       "\n",
       "    .dataframe tbody tr th {\n",
       "        vertical-align: top;\n",
       "    }\n",
       "\n",
       "    .dataframe thead th {\n",
       "        text-align: right;\n",
       "    }\n",
       "</style>\n",
       "<table border=\"1\" class=\"dataframe\">\n",
       "  <thead>\n",
       "    <tr style=\"text-align: right;\">\n",
       "      <th></th>\n",
       "      <th>name</th>\n",
       "      <th>population</th>\n",
       "      <th>county</th>\n",
       "      <th>longitude</th>\n",
       "      <th>level</th>\n",
       "      <th>enrollment</th>\n",
       "      <th>level.1</th>\n",
       "    </tr>\n",
       "  </thead>\n",
       "  <tbody>\n",
       "    <tr>\n",
       "      <th>0</th>\n",
       "      <td>NEW ENGLAND CHRISTIAN ACADEMY</td>\n",
       "      <td>136</td>\n",
       "      <td>BRISTOL</td>\n",
       "      <td>-71.175801</td>\n",
       "      <td>Combined elementary and secondary</td>\n",
       "      <td>120</td>\n",
       "      <td>Combined elementary and secondary</td>\n",
       "    </tr>\n",
       "    <tr>\n",
       "      <th>1</th>\n",
       "      <td>SETON ACADEMY FOR GIRLS</td>\n",
       "      <td>57</td>\n",
       "      <td>BRISTOL</td>\n",
       "      <td>-71.147302</td>\n",
       "      <td>Elementary</td>\n",
       "      <td>49</td>\n",
       "      <td>Elementary</td>\n",
       "    </tr>\n",
       "    <tr>\n",
       "      <th>2</th>\n",
       "      <td>ST ANNA SCHOOL</td>\n",
       "      <td>157</td>\n",
       "      <td>WORCESTER</td>\n",
       "      <td>-71.751741</td>\n",
       "      <td>Elementary</td>\n",
       "      <td>143</td>\n",
       "      <td>Elementary</td>\n",
       "    </tr>\n",
       "    <tr>\n",
       "      <th>3</th>\n",
       "      <td>SOUTHEAST ALTERNATIVE SCHOOL-MIDDLE SCHOOL</td>\n",
       "      <td>5</td>\n",
       "      <td>PLYMOUTH</td>\n",
       "      <td>-71.083393</td>\n",
       "      <td>Elementary</td>\n",
       "      <td>4</td>\n",
       "      <td>Elementary</td>\n",
       "    </tr>\n",
       "    <tr>\n",
       "      <th>4</th>\n",
       "      <td>DEVEREUX SCHOOL</td>\n",
       "      <td>123</td>\n",
       "      <td>WORCESTER</td>\n",
       "      <td>-71.968419</td>\n",
       "      <td>Combined elementary and secondary</td>\n",
       "      <td>107</td>\n",
       "      <td>Combined elementary and secondary</td>\n",
       "    </tr>\n",
       "  </tbody>\n",
       "</table>\n",
       "</div>"
      ],
      "text/plain": [
       "                                         name  population     county  \\\n",
       "0               NEW ENGLAND CHRISTIAN ACADEMY         136    BRISTOL   \n",
       "1                     SETON ACADEMY FOR GIRLS          57    BRISTOL   \n",
       "2                              ST ANNA SCHOOL         157  WORCESTER   \n",
       "3  SOUTHEAST ALTERNATIVE SCHOOL-MIDDLE SCHOOL           5   PLYMOUTH   \n",
       "4                             DEVEREUX SCHOOL         123  WORCESTER   \n",
       "\n",
       "   longitude                              level  enrollment  \\\n",
       "0 -71.175801  Combined elementary and secondary         120   \n",
       "1 -71.147302                         Elementary          49   \n",
       "2 -71.751741                         Elementary         143   \n",
       "3 -71.083393                         Elementary           4   \n",
       "4 -71.968419  Combined elementary and secondary         107   \n",
       "\n",
       "                             level.1  \n",
       "0  Combined elementary and secondary  \n",
       "1                         Elementary  \n",
       "2                         Elementary  \n",
       "3                         Elementary  \n",
       "4  Combined elementary and secondary  "
      ]
     },
     "execution_count": 5,
     "metadata": {},
     "output_type": "execute_result"
    }
   ],
   "source": [
    "d1b.head()"
   ]
  },
  {
   "cell_type": "code",
   "execution_count": 6,
   "id": "bd31b1a1",
   "metadata": {},
   "outputs": [
    {
     "name": "stdout",
     "output_type": "stream",
     "text": [
      "<class 'pandas.core.frame.DataFrame'>\n",
      "RangeIndex: 26983 entries, 0 to 26982\n",
      "Data columns (total 5 columns):\n",
      " #   Column      Non-Null Count  Dtype  \n",
      "---  ------      --------------  -----  \n",
      " 0   fid         26983 non-null  int64  \n",
      " 1   name        26983 non-null  object \n",
      " 2   population  26983 non-null  int64  \n",
      " 3   county      26983 non-null  object \n",
      " 4   latitude    26983 non-null  float64\n",
      "dtypes: float64(1), int64(2), object(2)\n",
      "memory usage: 1.0+ MB\n"
     ]
    }
   ],
   "source": [
    "d1a.info()"
   ]
  },
  {
   "cell_type": "code",
   "execution_count": 7,
   "id": "eb56489e",
   "metadata": {},
   "outputs": [
    {
     "name": "stdout",
     "output_type": "stream",
     "text": [
      "<class 'pandas.core.frame.DataFrame'>\n",
      "RangeIndex: 26983 entries, 0 to 26982\n",
      "Data columns (total 7 columns):\n",
      " #   Column      Non-Null Count  Dtype  \n",
      "---  ------      --------------  -----  \n",
      " 0   name        26983 non-null  object \n",
      " 1   population  26983 non-null  int64  \n",
      " 2   county      26983 non-null  object \n",
      " 3   longitude   26983 non-null  float64\n",
      " 4   level       26983 non-null  object \n",
      " 5   enrollment  26983 non-null  int64  \n",
      " 6   level.1     26983 non-null  object \n",
      "dtypes: float64(1), int64(2), object(4)\n",
      "memory usage: 1.4+ MB\n"
     ]
    }
   ],
   "source": [
    "d1b.info()"
   ]
  },
  {
   "cell_type": "code",
   "execution_count": 8,
   "id": "b749fa1e",
   "metadata": {},
   "outputs": [
    {
     "data": {
      "text/plain": [
       "{'county', 'name', 'population'}"
      ]
     },
     "execution_count": 8,
     "metadata": {},
     "output_type": "execute_result"
    }
   ],
   "source": [
    "set(d1a.columns).intersection(set(d1b.columns))"
   ]
  },
  {
   "cell_type": "code",
   "execution_count": 9,
   "id": "847775a2",
   "metadata": {},
   "outputs": [],
   "source": [
    "mergedData = d1a.merge(d1b, how = \"inner\", on = [\"name\", \"population\", \"county\"])"
   ]
  },
  {
   "cell_type": "code",
   "execution_count": 10,
   "id": "d9137bc6",
   "metadata": {},
   "outputs": [
    {
     "data": {
      "text/html": [
       "<div>\n",
       "<style scoped>\n",
       "    .dataframe tbody tr th:only-of-type {\n",
       "        vertical-align: middle;\n",
       "    }\n",
       "\n",
       "    .dataframe tbody tr th {\n",
       "        vertical-align: top;\n",
       "    }\n",
       "\n",
       "    .dataframe thead th {\n",
       "        text-align: right;\n",
       "    }\n",
       "</style>\n",
       "<table border=\"1\" class=\"dataframe\">\n",
       "  <thead>\n",
       "    <tr style=\"text-align: right;\">\n",
       "      <th></th>\n",
       "      <th>fid</th>\n",
       "      <th>name</th>\n",
       "      <th>population</th>\n",
       "      <th>county</th>\n",
       "      <th>latitude</th>\n",
       "      <th>longitude</th>\n",
       "      <th>level</th>\n",
       "      <th>enrollment</th>\n",
       "      <th>level.1</th>\n",
       "    </tr>\n",
       "  </thead>\n",
       "  <tbody>\n",
       "    <tr>\n",
       "      <th>0</th>\n",
       "      <td>9001</td>\n",
       "      <td>NEW ENGLAND CHRISTIAN ACADEMY</td>\n",
       "      <td>136</td>\n",
       "      <td>BRISTOL</td>\n",
       "      <td>41.758597</td>\n",
       "      <td>-71.175801</td>\n",
       "      <td>Combined elementary and secondary</td>\n",
       "      <td>120</td>\n",
       "      <td>Combined elementary and secondary</td>\n",
       "    </tr>\n",
       "    <tr>\n",
       "      <th>1</th>\n",
       "      <td>9002</td>\n",
       "      <td>SETON ACADEMY FOR GIRLS</td>\n",
       "      <td>57</td>\n",
       "      <td>BRISTOL</td>\n",
       "      <td>41.718407</td>\n",
       "      <td>-71.147302</td>\n",
       "      <td>Elementary</td>\n",
       "      <td>49</td>\n",
       "      <td>Elementary</td>\n",
       "    </tr>\n",
       "    <tr>\n",
       "      <th>2</th>\n",
       "      <td>9003</td>\n",
       "      <td>ST ANNA SCHOOL</td>\n",
       "      <td>157</td>\n",
       "      <td>WORCESTER</td>\n",
       "      <td>42.517271</td>\n",
       "      <td>-71.751741</td>\n",
       "      <td>Elementary</td>\n",
       "      <td>143</td>\n",
       "      <td>Elementary</td>\n",
       "    </tr>\n",
       "    <tr>\n",
       "      <th>3</th>\n",
       "      <td>9004</td>\n",
       "      <td>SOUTHEAST ALTERNATIVE SCHOOL-MIDDLE SCHOOL</td>\n",
       "      <td>5</td>\n",
       "      <td>PLYMOUTH</td>\n",
       "      <td>41.818210</td>\n",
       "      <td>-71.083393</td>\n",
       "      <td>Elementary</td>\n",
       "      <td>4</td>\n",
       "      <td>Elementary</td>\n",
       "    </tr>\n",
       "    <tr>\n",
       "      <th>4</th>\n",
       "      <td>9005</td>\n",
       "      <td>DEVEREUX SCHOOL</td>\n",
       "      <td>123</td>\n",
       "      <td>WORCESTER</td>\n",
       "      <td>42.383875</td>\n",
       "      <td>-71.968419</td>\n",
       "      <td>Combined elementary and secondary</td>\n",
       "      <td>107</td>\n",
       "      <td>Combined elementary and secondary</td>\n",
       "    </tr>\n",
       "    <tr>\n",
       "      <th>...</th>\n",
       "      <td>...</td>\n",
       "      <td>...</td>\n",
       "      <td>...</td>\n",
       "      <td>...</td>\n",
       "      <td>...</td>\n",
       "      <td>...</td>\n",
       "      <td>...</td>\n",
       "      <td>...</td>\n",
       "      <td>...</td>\n",
       "    </tr>\n",
       "    <tr>\n",
       "      <th>27028</th>\n",
       "      <td>20996</td>\n",
       "      <td>MOST PRECIOUS BLOOD</td>\n",
       "      <td>33</td>\n",
       "      <td>WAUPACA</td>\n",
       "      <td>44.386281</td>\n",
       "      <td>-88.739200</td>\n",
       "      <td>Elementary</td>\n",
       "      <td>28</td>\n",
       "      <td>Elementary</td>\n",
       "    </tr>\n",
       "    <tr>\n",
       "      <th>27029</th>\n",
       "      <td>20997</td>\n",
       "      <td>STARR ACADEMY</td>\n",
       "      <td>29</td>\n",
       "      <td>WAUPACA</td>\n",
       "      <td>44.308621</td>\n",
       "      <td>-88.848294</td>\n",
       "      <td>Secondary</td>\n",
       "      <td>21</td>\n",
       "      <td>Secondary</td>\n",
       "    </tr>\n",
       "    <tr>\n",
       "      <th>27030</th>\n",
       "      <td>20998</td>\n",
       "      <td>ST JOHN'S LUTHERAN SCHOOL</td>\n",
       "      <td>24</td>\n",
       "      <td>WAUSHARA</td>\n",
       "      <td>44.202182</td>\n",
       "      <td>-88.886093</td>\n",
       "      <td>Elementary</td>\n",
       "      <td>22</td>\n",
       "      <td>Elementary</td>\n",
       "    </tr>\n",
       "    <tr>\n",
       "      <th>27031</th>\n",
       "      <td>20999</td>\n",
       "      <td>FAITH CHRISTIAN ACADEMY</td>\n",
       "      <td>13</td>\n",
       "      <td>WAUSHARA</td>\n",
       "      <td>44.074503</td>\n",
       "      <td>-89.294984</td>\n",
       "      <td>Elementary</td>\n",
       "      <td>11</td>\n",
       "      <td>Elementary</td>\n",
       "    </tr>\n",
       "    <tr>\n",
       "      <th>27032</th>\n",
       "      <td>21000</td>\n",
       "      <td>SHADY PINE SCHOOL</td>\n",
       "      <td>17</td>\n",
       "      <td>WAUSHARA</td>\n",
       "      <td>44.014975</td>\n",
       "      <td>-89.377692</td>\n",
       "      <td>Elementary</td>\n",
       "      <td>16</td>\n",
       "      <td>Elementary</td>\n",
       "    </tr>\n",
       "  </tbody>\n",
       "</table>\n",
       "<p>27033 rows × 9 columns</p>\n",
       "</div>"
      ],
      "text/plain": [
       "         fid                                        name  population  \\\n",
       "0       9001               NEW ENGLAND CHRISTIAN ACADEMY         136   \n",
       "1       9002                     SETON ACADEMY FOR GIRLS          57   \n",
       "2       9003                              ST ANNA SCHOOL         157   \n",
       "3       9004  SOUTHEAST ALTERNATIVE SCHOOL-MIDDLE SCHOOL           5   \n",
       "4       9005                             DEVEREUX SCHOOL         123   \n",
       "...      ...                                         ...         ...   \n",
       "27028  20996                         MOST PRECIOUS BLOOD          33   \n",
       "27029  20997                               STARR ACADEMY          29   \n",
       "27030  20998                   ST JOHN'S LUTHERAN SCHOOL          24   \n",
       "27031  20999                     FAITH CHRISTIAN ACADEMY          13   \n",
       "27032  21000                           SHADY PINE SCHOOL          17   \n",
       "\n",
       "          county   latitude  longitude                              level  \\\n",
       "0        BRISTOL  41.758597 -71.175801  Combined elementary and secondary   \n",
       "1        BRISTOL  41.718407 -71.147302                         Elementary   \n",
       "2      WORCESTER  42.517271 -71.751741                         Elementary   \n",
       "3       PLYMOUTH  41.818210 -71.083393                         Elementary   \n",
       "4      WORCESTER  42.383875 -71.968419  Combined elementary and secondary   \n",
       "...          ...        ...        ...                                ...   \n",
       "27028    WAUPACA  44.386281 -88.739200                         Elementary   \n",
       "27029    WAUPACA  44.308621 -88.848294                          Secondary   \n",
       "27030   WAUSHARA  44.202182 -88.886093                         Elementary   \n",
       "27031   WAUSHARA  44.074503 -89.294984                         Elementary   \n",
       "27032   WAUSHARA  44.014975 -89.377692                         Elementary   \n",
       "\n",
       "       enrollment                            level.1  \n",
       "0             120  Combined elementary and secondary  \n",
       "1              49                         Elementary  \n",
       "2             143                         Elementary  \n",
       "3               4                         Elementary  \n",
       "4             107  Combined elementary and secondary  \n",
       "...           ...                                ...  \n",
       "27028          28                         Elementary  \n",
       "27029          21                          Secondary  \n",
       "27030          22                         Elementary  \n",
       "27031          11                         Elementary  \n",
       "27032          16                         Elementary  \n",
       "\n",
       "[27033 rows x 9 columns]"
      ]
     },
     "execution_count": 10,
     "metadata": {},
     "output_type": "execute_result"
    }
   ],
   "source": [
    "mergedData"
   ]
  },
  {
   "cell_type": "code",
   "execution_count": 11,
   "id": "4a9baf90",
   "metadata": {},
   "outputs": [
    {
     "data": {
      "text/plain": [
       "(27033, 9)"
      ]
     },
     "execution_count": 11,
     "metadata": {},
     "output_type": "execute_result"
    }
   ],
   "source": [
    "mergedData.columns\n",
    "mergedData.shape"
   ]
  },
  {
   "cell_type": "code",
   "execution_count": 12,
   "id": "d5cd7782",
   "metadata": {},
   "outputs": [],
   "source": [
    "commonCols = list(set(d1a.columns) & set(d1c.columns))"
   ]
  },
  {
   "cell_type": "code",
   "execution_count": 13,
   "id": "4bdcbadc",
   "metadata": {},
   "outputs": [
    {
     "data": {
      "text/plain": [
       "['county']"
      ]
     },
     "execution_count": 13,
     "metadata": {},
     "output_type": "execute_result"
    }
   ],
   "source": [
    "commonCols"
   ]
  },
  {
   "cell_type": "code",
   "execution_count": 14,
   "id": "343b2580",
   "metadata": {},
   "outputs": [],
   "source": [
    "comboAC = pd.merge(d1a, d1c, how = 'inner', on = commonCols)"
   ]
  },
  {
   "cell_type": "code",
   "execution_count": 15,
   "id": "3b48c277",
   "metadata": {},
   "outputs": [
    {
     "data": {
      "text/plain": [
       "Index(['fid', 'name', 'population', 'county', 'latitude', 'city', 'score'], dtype='object')"
      ]
     },
     "execution_count": 15,
     "metadata": {},
     "output_type": "execute_result"
    }
   ],
   "source": [
    "comboAC.columns"
   ]
  },
  {
   "cell_type": "code",
   "execution_count": 16,
   "id": "615f9e47",
   "metadata": {},
   "outputs": [
    {
     "data": {
      "text/plain": [
       "(4221333, 7)"
      ]
     },
     "execution_count": 16,
     "metadata": {},
     "output_type": "execute_result"
    }
   ],
   "source": [
    "comboAC.shape"
   ]
  },
  {
   "cell_type": "markdown",
   "id": "2c084325",
   "metadata": {},
   "source": [
    "### Q2"
   ]
  },
  {
   "cell_type": "code",
   "execution_count": 17,
   "id": "25e6ed6a",
   "metadata": {},
   "outputs": [],
   "source": [
    "customizedData = {\n",
    "    \"county\": [\"BRISTOL\", \"WORCESTER\", \"FRANKLIN\", \"HAMPDEN\", \"HAMPDEN\"],\n",
    "    \"size\": [\"small\", \"medium\", \"high\", \"medium\", \"small\"],\n",
    "    \"cardinal direction\" : [\"north\", 'south', 'east', 'west', 'north'],\n",
    "    \"timings\" : [\"full-time\", \"full-time\", \"part-time\", 'part-time', 'full-time'],\n",
    "    \"salary\" : [5000, 3500, 4700, 5400, 6000],\n",
    "    \"dept\" : [\"IT\", \"HR\", \"PR\", \"IT\", \"IT\"]\n",
    "}\n",
    "myDF = pd.DataFrame(customizedData)"
   ]
  },
  {
   "cell_type": "code",
   "execution_count": 18,
   "id": "f06acb67",
   "metadata": {},
   "outputs": [
    {
     "data": {
      "text/html": [
       "<div>\n",
       "<style scoped>\n",
       "    .dataframe tbody tr th:only-of-type {\n",
       "        vertical-align: middle;\n",
       "    }\n",
       "\n",
       "    .dataframe tbody tr th {\n",
       "        vertical-align: top;\n",
       "    }\n",
       "\n",
       "    .dataframe thead th {\n",
       "        text-align: right;\n",
       "    }\n",
       "</style>\n",
       "<table border=\"1\" class=\"dataframe\">\n",
       "  <thead>\n",
       "    <tr style=\"text-align: right;\">\n",
       "      <th></th>\n",
       "      <th>county</th>\n",
       "      <th>size</th>\n",
       "      <th>cardinal direction</th>\n",
       "      <th>timings</th>\n",
       "      <th>salary</th>\n",
       "      <th>dept</th>\n",
       "    </tr>\n",
       "  </thead>\n",
       "  <tbody>\n",
       "    <tr>\n",
       "      <th>0</th>\n",
       "      <td>BRISTOL</td>\n",
       "      <td>small</td>\n",
       "      <td>north</td>\n",
       "      <td>full-time</td>\n",
       "      <td>5000</td>\n",
       "      <td>IT</td>\n",
       "    </tr>\n",
       "    <tr>\n",
       "      <th>1</th>\n",
       "      <td>WORCESTER</td>\n",
       "      <td>medium</td>\n",
       "      <td>south</td>\n",
       "      <td>full-time</td>\n",
       "      <td>3500</td>\n",
       "      <td>HR</td>\n",
       "    </tr>\n",
       "    <tr>\n",
       "      <th>2</th>\n",
       "      <td>FRANKLIN</td>\n",
       "      <td>high</td>\n",
       "      <td>east</td>\n",
       "      <td>part-time</td>\n",
       "      <td>4700</td>\n",
       "      <td>PR</td>\n",
       "    </tr>\n",
       "    <tr>\n",
       "      <th>3</th>\n",
       "      <td>HAMPDEN</td>\n",
       "      <td>medium</td>\n",
       "      <td>west</td>\n",
       "      <td>part-time</td>\n",
       "      <td>5400</td>\n",
       "      <td>IT</td>\n",
       "    </tr>\n",
       "    <tr>\n",
       "      <th>4</th>\n",
       "      <td>HAMPDEN</td>\n",
       "      <td>small</td>\n",
       "      <td>north</td>\n",
       "      <td>full-time</td>\n",
       "      <td>6000</td>\n",
       "      <td>IT</td>\n",
       "    </tr>\n",
       "  </tbody>\n",
       "</table>\n",
       "</div>"
      ],
      "text/plain": [
       "      county    size cardinal direction    timings  salary dept\n",
       "0    BRISTOL   small              north  full-time    5000   IT\n",
       "1  WORCESTER  medium              south  full-time    3500   HR\n",
       "2   FRANKLIN    high               east  part-time    4700   PR\n",
       "3    HAMPDEN  medium               west  part-time    5400   IT\n",
       "4    HAMPDEN   small              north  full-time    6000   IT"
      ]
     },
     "execution_count": 18,
     "metadata": {},
     "output_type": "execute_result"
    }
   ],
   "source": [
    "myDF"
   ]
  },
  {
   "cell_type": "code",
   "execution_count": 19,
   "id": "287f620d",
   "metadata": {},
   "outputs": [
    {
     "data": {
      "text/plain": [
       "(5, 6)"
      ]
     },
     "execution_count": 19,
     "metadata": {},
     "output_type": "execute_result"
    }
   ],
   "source": [
    "myDF.shape"
   ]
  },
  {
   "cell_type": "code",
   "execution_count": 20,
   "id": "b2b5d6ae",
   "metadata": {},
   "outputs": [
    {
     "data": {
      "text/plain": [
       "Index(['county', 'size', 'cardinal direction', 'timings', 'salary', 'dept'], dtype='object')"
      ]
     },
     "execution_count": 20,
     "metadata": {},
     "output_type": "execute_result"
    }
   ],
   "source": [
    "myDF.columns"
   ]
  },
  {
   "cell_type": "code",
   "execution_count": 21,
   "id": "ab176eb7",
   "metadata": {},
   "outputs": [
    {
     "data": {
      "text/plain": [
       "30"
      ]
     },
     "execution_count": 21,
     "metadata": {},
     "output_type": "execute_result"
    }
   ],
   "source": [
    "myDF.size"
   ]
  },
  {
   "cell_type": "code",
   "execution_count": 22,
   "id": "964c88d5",
   "metadata": {},
   "outputs": [],
   "source": [
    "mergedDF = pd.merge(myDF, d1a, how = 'inner', on = 'county')\n",
    "mergedDF = pd.merge(mergedDF,d1b, how = 'inner', on = ['county', 'name', 'population'])\n",
    "mergedDF = pd.merge(mergedDF,d1c, how = 'inner', on = 'county')"
   ]
  },
  {
   "cell_type": "code",
   "execution_count": 23,
   "id": "e999dd01",
   "metadata": {},
   "outputs": [
    {
     "data": {
      "text/html": [
       "<div>\n",
       "<style scoped>\n",
       "    .dataframe tbody tr th:only-of-type {\n",
       "        vertical-align: middle;\n",
       "    }\n",
       "\n",
       "    .dataframe tbody tr th {\n",
       "        vertical-align: top;\n",
       "    }\n",
       "\n",
       "    .dataframe thead th {\n",
       "        text-align: right;\n",
       "    }\n",
       "</style>\n",
       "<table border=\"1\" class=\"dataframe\">\n",
       "  <thead>\n",
       "    <tr style=\"text-align: right;\">\n",
       "      <th></th>\n",
       "      <th>county</th>\n",
       "      <th>size</th>\n",
       "      <th>cardinal direction</th>\n",
       "      <th>timings</th>\n",
       "      <th>salary</th>\n",
       "      <th>dept</th>\n",
       "      <th>fid</th>\n",
       "      <th>name</th>\n",
       "      <th>population</th>\n",
       "      <th>latitude</th>\n",
       "      <th>longitude</th>\n",
       "      <th>level</th>\n",
       "      <th>enrollment</th>\n",
       "      <th>level.1</th>\n",
       "      <th>city</th>\n",
       "      <th>score</th>\n",
       "    </tr>\n",
       "  </thead>\n",
       "  <tbody>\n",
       "    <tr>\n",
       "      <th>0</th>\n",
       "      <td>BRISTOL</td>\n",
       "      <td>small</td>\n",
       "      <td>north</td>\n",
       "      <td>full-time</td>\n",
       "      <td>5000</td>\n",
       "      <td>IT</td>\n",
       "      <td>9001</td>\n",
       "      <td>NEW ENGLAND CHRISTIAN ACADEMY</td>\n",
       "      <td>136</td>\n",
       "      <td>41.758597</td>\n",
       "      <td>-71.175801</td>\n",
       "      <td>Combined elementary and secondary</td>\n",
       "      <td>120</td>\n",
       "      <td>Combined elementary and secondary</td>\n",
       "      <td>SWANSEA</td>\n",
       "      <td>16</td>\n",
       "    </tr>\n",
       "    <tr>\n",
       "      <th>1</th>\n",
       "      <td>BRISTOL</td>\n",
       "      <td>small</td>\n",
       "      <td>north</td>\n",
       "      <td>full-time</td>\n",
       "      <td>5000</td>\n",
       "      <td>IT</td>\n",
       "      <td>9001</td>\n",
       "      <td>NEW ENGLAND CHRISTIAN ACADEMY</td>\n",
       "      <td>136</td>\n",
       "      <td>41.758597</td>\n",
       "      <td>-71.175801</td>\n",
       "      <td>Combined elementary and secondary</td>\n",
       "      <td>120</td>\n",
       "      <td>Combined elementary and secondary</td>\n",
       "      <td>FALL RIVER</td>\n",
       "      <td>8</td>\n",
       "    </tr>\n",
       "    <tr>\n",
       "      <th>2</th>\n",
       "      <td>BRISTOL</td>\n",
       "      <td>small</td>\n",
       "      <td>north</td>\n",
       "      <td>full-time</td>\n",
       "      <td>5000</td>\n",
       "      <td>IT</td>\n",
       "      <td>9001</td>\n",
       "      <td>NEW ENGLAND CHRISTIAN ACADEMY</td>\n",
       "      <td>136</td>\n",
       "      <td>41.758597</td>\n",
       "      <td>-71.175801</td>\n",
       "      <td>Combined elementary and secondary</td>\n",
       "      <td>120</td>\n",
       "      <td>Combined elementary and secondary</td>\n",
       "      <td>NEW BEDFORD</td>\n",
       "      <td>8</td>\n",
       "    </tr>\n",
       "    <tr>\n",
       "      <th>3</th>\n",
       "      <td>BRISTOL</td>\n",
       "      <td>small</td>\n",
       "      <td>north</td>\n",
       "      <td>full-time</td>\n",
       "      <td>5000</td>\n",
       "      <td>IT</td>\n",
       "      <td>9001</td>\n",
       "      <td>NEW ENGLAND CHRISTIAN ACADEMY</td>\n",
       "      <td>136</td>\n",
       "      <td>41.758597</td>\n",
       "      <td>-71.175801</td>\n",
       "      <td>Combined elementary and secondary</td>\n",
       "      <td>120</td>\n",
       "      <td>Combined elementary and secondary</td>\n",
       "      <td>MANSFIELD</td>\n",
       "      <td>14</td>\n",
       "    </tr>\n",
       "    <tr>\n",
       "      <th>4</th>\n",
       "      <td>BRISTOL</td>\n",
       "      <td>small</td>\n",
       "      <td>north</td>\n",
       "      <td>full-time</td>\n",
       "      <td>5000</td>\n",
       "      <td>IT</td>\n",
       "      <td>9001</td>\n",
       "      <td>NEW ENGLAND CHRISTIAN ACADEMY</td>\n",
       "      <td>136</td>\n",
       "      <td>41.758597</td>\n",
       "      <td>-71.175801</td>\n",
       "      <td>Combined elementary and secondary</td>\n",
       "      <td>120</td>\n",
       "      <td>Combined elementary and secondary</td>\n",
       "      <td>ATTLEBORO</td>\n",
       "      <td>5</td>\n",
       "    </tr>\n",
       "  </tbody>\n",
       "</table>\n",
       "</div>"
      ],
      "text/plain": [
       "    county   size cardinal direction    timings  salary dept   fid  \\\n",
       "0  BRISTOL  small              north  full-time    5000   IT  9001   \n",
       "1  BRISTOL  small              north  full-time    5000   IT  9001   \n",
       "2  BRISTOL  small              north  full-time    5000   IT  9001   \n",
       "3  BRISTOL  small              north  full-time    5000   IT  9001   \n",
       "4  BRISTOL  small              north  full-time    5000   IT  9001   \n",
       "\n",
       "                            name  population   latitude  longitude  \\\n",
       "0  NEW ENGLAND CHRISTIAN ACADEMY         136  41.758597 -71.175801   \n",
       "1  NEW ENGLAND CHRISTIAN ACADEMY         136  41.758597 -71.175801   \n",
       "2  NEW ENGLAND CHRISTIAN ACADEMY         136  41.758597 -71.175801   \n",
       "3  NEW ENGLAND CHRISTIAN ACADEMY         136  41.758597 -71.175801   \n",
       "4  NEW ENGLAND CHRISTIAN ACADEMY         136  41.758597 -71.175801   \n",
       "\n",
       "                               level  enrollment  \\\n",
       "0  Combined elementary and secondary         120   \n",
       "1  Combined elementary and secondary         120   \n",
       "2  Combined elementary and secondary         120   \n",
       "3  Combined elementary and secondary         120   \n",
       "4  Combined elementary and secondary         120   \n",
       "\n",
       "                             level.1         city  score  \n",
       "0  Combined elementary and secondary      SWANSEA     16  \n",
       "1  Combined elementary and secondary   FALL RIVER      8  \n",
       "2  Combined elementary and secondary  NEW BEDFORD      8  \n",
       "3  Combined elementary and secondary    MANSFIELD     14  \n",
       "4  Combined elementary and secondary    ATTLEBORO      5  "
      ]
     },
     "execution_count": 23,
     "metadata": {},
     "output_type": "execute_result"
    }
   ],
   "source": [
    "mergedDF.head()"
   ]
  },
  {
   "cell_type": "code",
   "execution_count": 24,
   "id": "4c7f742a",
   "metadata": {},
   "outputs": [
    {
     "data": {
      "text/plain": [
       "(51449, 16)"
      ]
     },
     "execution_count": 24,
     "metadata": {},
     "output_type": "execute_result"
    }
   ],
   "source": [
    "mergedDF.shape"
   ]
  },
  {
   "cell_type": "code",
   "execution_count": 25,
   "id": "3ecac5f3",
   "metadata": {},
   "outputs": [
    {
     "data": {
      "text/plain": [
       "Index(['county', 'size', 'cardinal direction', 'timings', 'salary', 'dept',\n",
       "       'fid', 'name', 'population', 'latitude', 'longitude', 'level',\n",
       "       'enrollment', 'level.1', 'city', 'score'],\n",
       "      dtype='object')"
      ]
     },
     "execution_count": 25,
     "metadata": {},
     "output_type": "execute_result"
    }
   ],
   "source": [
    "mergedDF.columns"
   ]
  },
  {
   "cell_type": "markdown",
   "id": "1ffbef84",
   "metadata": {},
   "source": [
    "### Q3"
   ]
  },
  {
   "cell_type": "code",
   "execution_count": 26,
   "id": "ca950a67",
   "metadata": {},
   "outputs": [],
   "source": [
    "trainData = pd.read_csv(\"train.csv\")"
   ]
  },
  {
   "cell_type": "code",
   "execution_count": 27,
   "id": "d6bc1729",
   "metadata": {},
   "outputs": [
    {
     "data": {
      "text/html": [
       "<div>\n",
       "<style scoped>\n",
       "    .dataframe tbody tr th:only-of-type {\n",
       "        vertical-align: middle;\n",
       "    }\n",
       "\n",
       "    .dataframe tbody tr th {\n",
       "        vertical-align: top;\n",
       "    }\n",
       "\n",
       "    .dataframe thead th {\n",
       "        text-align: right;\n",
       "    }\n",
       "</style>\n",
       "<table border=\"1\" class=\"dataframe\">\n",
       "  <thead>\n",
       "    <tr style=\"text-align: right;\">\n",
       "      <th></th>\n",
       "      <th>ID</th>\n",
       "      <th>var3</th>\n",
       "      <th>var15</th>\n",
       "      <th>imp_ent_var16_ult1</th>\n",
       "      <th>imp_op_var39_comer_ult1</th>\n",
       "      <th>imp_op_var39_comer_ult3</th>\n",
       "      <th>imp_op_var40_comer_ult1</th>\n",
       "      <th>imp_op_var40_comer_ult3</th>\n",
       "      <th>imp_op_var40_efect_ult1</th>\n",
       "      <th>imp_op_var40_efect_ult3</th>\n",
       "      <th>...</th>\n",
       "      <th>saldo_medio_var33_hace2</th>\n",
       "      <th>saldo_medio_var33_hace3</th>\n",
       "      <th>saldo_medio_var33_ult1</th>\n",
       "      <th>saldo_medio_var33_ult3</th>\n",
       "      <th>saldo_medio_var44_hace2</th>\n",
       "      <th>saldo_medio_var44_hace3</th>\n",
       "      <th>saldo_medio_var44_ult1</th>\n",
       "      <th>saldo_medio_var44_ult3</th>\n",
       "      <th>var38</th>\n",
       "      <th>TARGET</th>\n",
       "    </tr>\n",
       "  </thead>\n",
       "  <tbody>\n",
       "    <tr>\n",
       "      <th>0</th>\n",
       "      <td>1</td>\n",
       "      <td>2</td>\n",
       "      <td>23</td>\n",
       "      <td>0.0</td>\n",
       "      <td>0.0</td>\n",
       "      <td>0.0</td>\n",
       "      <td>0.0</td>\n",
       "      <td>0.0</td>\n",
       "      <td>0.0</td>\n",
       "      <td>0.0</td>\n",
       "      <td>...</td>\n",
       "      <td>0.0</td>\n",
       "      <td>0.0</td>\n",
       "      <td>0.0</td>\n",
       "      <td>0.0</td>\n",
       "      <td>0.0</td>\n",
       "      <td>0.0</td>\n",
       "      <td>0.0</td>\n",
       "      <td>0.0</td>\n",
       "      <td>39205.170000</td>\n",
       "      <td>0</td>\n",
       "    </tr>\n",
       "    <tr>\n",
       "      <th>1</th>\n",
       "      <td>3</td>\n",
       "      <td>2</td>\n",
       "      <td>34</td>\n",
       "      <td>0.0</td>\n",
       "      <td>0.0</td>\n",
       "      <td>0.0</td>\n",
       "      <td>0.0</td>\n",
       "      <td>0.0</td>\n",
       "      <td>0.0</td>\n",
       "      <td>0.0</td>\n",
       "      <td>...</td>\n",
       "      <td>0.0</td>\n",
       "      <td>0.0</td>\n",
       "      <td>0.0</td>\n",
       "      <td>0.0</td>\n",
       "      <td>0.0</td>\n",
       "      <td>0.0</td>\n",
       "      <td>0.0</td>\n",
       "      <td>0.0</td>\n",
       "      <td>49278.030000</td>\n",
       "      <td>0</td>\n",
       "    </tr>\n",
       "    <tr>\n",
       "      <th>2</th>\n",
       "      <td>4</td>\n",
       "      <td>2</td>\n",
       "      <td>23</td>\n",
       "      <td>0.0</td>\n",
       "      <td>0.0</td>\n",
       "      <td>0.0</td>\n",
       "      <td>0.0</td>\n",
       "      <td>0.0</td>\n",
       "      <td>0.0</td>\n",
       "      <td>0.0</td>\n",
       "      <td>...</td>\n",
       "      <td>0.0</td>\n",
       "      <td>0.0</td>\n",
       "      <td>0.0</td>\n",
       "      <td>0.0</td>\n",
       "      <td>0.0</td>\n",
       "      <td>0.0</td>\n",
       "      <td>0.0</td>\n",
       "      <td>0.0</td>\n",
       "      <td>67333.770000</td>\n",
       "      <td>0</td>\n",
       "    </tr>\n",
       "    <tr>\n",
       "      <th>3</th>\n",
       "      <td>8</td>\n",
       "      <td>2</td>\n",
       "      <td>37</td>\n",
       "      <td>0.0</td>\n",
       "      <td>195.0</td>\n",
       "      <td>195.0</td>\n",
       "      <td>0.0</td>\n",
       "      <td>0.0</td>\n",
       "      <td>0.0</td>\n",
       "      <td>0.0</td>\n",
       "      <td>...</td>\n",
       "      <td>0.0</td>\n",
       "      <td>0.0</td>\n",
       "      <td>0.0</td>\n",
       "      <td>0.0</td>\n",
       "      <td>0.0</td>\n",
       "      <td>0.0</td>\n",
       "      <td>0.0</td>\n",
       "      <td>0.0</td>\n",
       "      <td>64007.970000</td>\n",
       "      <td>0</td>\n",
       "    </tr>\n",
       "    <tr>\n",
       "      <th>4</th>\n",
       "      <td>10</td>\n",
       "      <td>2</td>\n",
       "      <td>39</td>\n",
       "      <td>0.0</td>\n",
       "      <td>0.0</td>\n",
       "      <td>0.0</td>\n",
       "      <td>0.0</td>\n",
       "      <td>0.0</td>\n",
       "      <td>0.0</td>\n",
       "      <td>0.0</td>\n",
       "      <td>...</td>\n",
       "      <td>0.0</td>\n",
       "      <td>0.0</td>\n",
       "      <td>0.0</td>\n",
       "      <td>0.0</td>\n",
       "      <td>0.0</td>\n",
       "      <td>0.0</td>\n",
       "      <td>0.0</td>\n",
       "      <td>0.0</td>\n",
       "      <td>117310.979016</td>\n",
       "      <td>0</td>\n",
       "    </tr>\n",
       "  </tbody>\n",
       "</table>\n",
       "<p>5 rows × 371 columns</p>\n",
       "</div>"
      ],
      "text/plain": [
       "   ID  var3  var15  imp_ent_var16_ult1  imp_op_var39_comer_ult1  \\\n",
       "0   1     2     23                 0.0                      0.0   \n",
       "1   3     2     34                 0.0                      0.0   \n",
       "2   4     2     23                 0.0                      0.0   \n",
       "3   8     2     37                 0.0                    195.0   \n",
       "4  10     2     39                 0.0                      0.0   \n",
       "\n",
       "   imp_op_var39_comer_ult3  imp_op_var40_comer_ult1  imp_op_var40_comer_ult3  \\\n",
       "0                      0.0                      0.0                      0.0   \n",
       "1                      0.0                      0.0                      0.0   \n",
       "2                      0.0                      0.0                      0.0   \n",
       "3                    195.0                      0.0                      0.0   \n",
       "4                      0.0                      0.0                      0.0   \n",
       "\n",
       "   imp_op_var40_efect_ult1  imp_op_var40_efect_ult3  ...  \\\n",
       "0                      0.0                      0.0  ...   \n",
       "1                      0.0                      0.0  ...   \n",
       "2                      0.0                      0.0  ...   \n",
       "3                      0.0                      0.0  ...   \n",
       "4                      0.0                      0.0  ...   \n",
       "\n",
       "   saldo_medio_var33_hace2  saldo_medio_var33_hace3  saldo_medio_var33_ult1  \\\n",
       "0                      0.0                      0.0                     0.0   \n",
       "1                      0.0                      0.0                     0.0   \n",
       "2                      0.0                      0.0                     0.0   \n",
       "3                      0.0                      0.0                     0.0   \n",
       "4                      0.0                      0.0                     0.0   \n",
       "\n",
       "   saldo_medio_var33_ult3  saldo_medio_var44_hace2  saldo_medio_var44_hace3  \\\n",
       "0                     0.0                      0.0                      0.0   \n",
       "1                     0.0                      0.0                      0.0   \n",
       "2                     0.0                      0.0                      0.0   \n",
       "3                     0.0                      0.0                      0.0   \n",
       "4                     0.0                      0.0                      0.0   \n",
       "\n",
       "   saldo_medio_var44_ult1  saldo_medio_var44_ult3          var38  TARGET  \n",
       "0                     0.0                     0.0   39205.170000       0  \n",
       "1                     0.0                     0.0   49278.030000       0  \n",
       "2                     0.0                     0.0   67333.770000       0  \n",
       "3                     0.0                     0.0   64007.970000       0  \n",
       "4                     0.0                     0.0  117310.979016       0  \n",
       "\n",
       "[5 rows x 371 columns]"
      ]
     },
     "execution_count": 27,
     "metadata": {},
     "output_type": "execute_result"
    }
   ],
   "source": [
    "trainData.head()"
   ]
  },
  {
   "cell_type": "code",
   "execution_count": 28,
   "id": "b476697c",
   "metadata": {},
   "outputs": [
    {
     "data": {
      "text/plain": [
       "ID                         0\n",
       "var3                       0\n",
       "var15                      0\n",
       "imp_ent_var16_ult1         0\n",
       "imp_op_var39_comer_ult1    0\n",
       "                          ..\n",
       "saldo_medio_var44_hace3    0\n",
       "saldo_medio_var44_ult1     0\n",
       "saldo_medio_var44_ult3     0\n",
       "var38                      0\n",
       "TARGET                     0\n",
       "Length: 371, dtype: int64"
      ]
     },
     "execution_count": 28,
     "metadata": {},
     "output_type": "execute_result"
    }
   ],
   "source": [
    "trainData.isnull().sum()"
   ]
  },
  {
   "cell_type": "code",
   "execution_count": 29,
   "id": "ab833058",
   "metadata": {},
   "outputs": [],
   "source": [
    "import seaborn as sns\n",
    "import matplotlib.pyplot as plt"
   ]
  },
  {
   "cell_type": "code",
   "execution_count": 30,
   "id": "b2261835",
   "metadata": {},
   "outputs": [],
   "source": [
    "vars = ['var3', 'var38', 'var15', 'imp_op_var39_comer_ult1']\n",
    "corr_matrix = trainData[vars].corr()"
   ]
  },
  {
   "cell_type": "code",
   "execution_count": 31,
   "id": "c845c135",
   "metadata": {},
   "outputs": [
    {
     "data": {
      "image/png": "[encoded data removed]",
      "text/plain": [
       "<Figure size 800x600 with 2 Axes>"
      ]
     },
     "metadata": {},
     "output_type": "display_data"
    }
   ],
   "source": [
    "plt.figure(figsize=(8,6))\n",
    "sns.heatmap(corr_matrix, annot=True, cmap = 'coolwarm')\n",
    "plt.title('Correlation heatmap for Var3, Var38, Var15, imp_op_var39_comer_ult1')\n",
    "plt.show()"
   ]
  },
  {
   "cell_type": "code",
   "execution_count": 32,
   "id": "93a4c02d",
   "metadata": {},
   "outputs": [
    {
     "data": {
      "text/plain": [
       "<Figure size 800x600 with 0 Axes>"
      ]
     },
     "metadata": {},
     "output_type": "display_data"
    },
    {
     "data": {
      "image/png": "[encoded data removed]",
      "text/plain": [
       "<Figure size 1000x1000 with 20 Axes>"
      ]
     },
     "metadata": {},
     "output_type": "display_data"
    }
   ],
   "source": [
    "plt.figure(figsize = (8,6))\n",
    "sns.pairplot(trainData[vars])\n",
    "plt.suptitle('Pair Plot for Selected Features', y=1.02)\n",
    "plt.show()"
   ]
  },
  {
   "cell_type": "markdown",
   "id": "977ebc33",
   "metadata": {},
   "source": [
    "Data isn't linear since there is barely any correlation between the features as seen by the heatmaps and pairplots"
   ]
  },
  {
   "cell_type": "code",
   "execution_count": null,
   "id": "34d34392",
   "metadata": {},
   "outputs": [
    {
     "data": {
      "text/html": [
       "<div>\n",
       "<style scoped>\n",
       "    .dataframe tbody tr th:only-of-type {\n",
       "        vertical-align: middle;\n",
       "    }\n",
       "\n",
       "    .dataframe tbody tr th {\n",
       "        vertical-align: top;\n",
       "    }\n",
       "\n",
       "    .dataframe thead th {\n",
       "        text-align: right;\n",
       "    }\n",
       "</style>\n",
       "<table border=\"1\" class=\"dataframe\">\n",
       "  <thead>\n",
       "    <tr style=\"text-align: right;\">\n",
       "      <th></th>\n",
       "      <th>ID</th>\n",
       "      <th>var3</th>\n",
       "      <th>var15</th>\n",
       "      <th>imp_ent_var16_ult1</th>\n",
       "      <th>imp_op_var39_comer_ult1</th>\n",
       "      <th>imp_op_var39_comer_ult3</th>\n",
       "      <th>imp_op_var40_comer_ult1</th>\n",
       "      <th>imp_op_var40_comer_ult3</th>\n",
       "      <th>imp_op_var40_efect_ult1</th>\n",
       "      <th>imp_op_var40_efect_ult3</th>\n",
       "      <th>...</th>\n",
       "      <th>saldo_medio_var33_hace2</th>\n",
       "      <th>saldo_medio_var33_hace3</th>\n",
       "      <th>saldo_medio_var33_ult1</th>\n",
       "      <th>saldo_medio_var33_ult3</th>\n",
       "      <th>saldo_medio_var44_hace2</th>\n",
       "      <th>saldo_medio_var44_hace3</th>\n",
       "      <th>saldo_medio_var44_ult1</th>\n",
       "      <th>saldo_medio_var44_ult3</th>\n",
       "      <th>var38</th>\n",
       "      <th>TARGET</th>\n",
       "    </tr>\n",
       "  </thead>\n",
       "  <tbody>\n",
       "    <tr>\n",
       "      <th>0</th>\n",
       "      <td>False</td>\n",
       "      <td>False</td>\n",
       "      <td>False</td>\n",
       "      <td>False</td>\n",
       "      <td>False</td>\n",
       "      <td>False</td>\n",
       "      <td>False</td>\n",
       "      <td>False</td>\n",
       "      <td>False</td>\n",
       "      <td>False</td>\n",
       "      <td>...</td>\n",
       "      <td>False</td>\n",
       "      <td>False</td>\n",
       "      <td>False</td>\n",
       "      <td>False</td>\n",
       "      <td>False</td>\n",
       "      <td>False</td>\n",
       "      <td>False</td>\n",
       "      <td>False</td>\n",
       "      <td>False</td>\n",
       "      <td>False</td>\n",
       "    </tr>\n",
       "    <tr>\n",
       "      <th>1</th>\n",
       "      <td>False</td>\n",
       "      <td>False</td>\n",
       "      <td>False</td>\n",
       "      <td>False</td>\n",
       "      <td>False</td>\n",
       "      <td>False</td>\n",
       "      <td>False</td>\n",
       "      <td>False</td>\n",
       "      <td>False</td>\n",
       "      <td>False</td>\n",
       "      <td>...</td>\n",
       "      <td>False</td>\n",
       "      <td>False</td>\n",
       "      <td>False</td>\n",
       "      <td>False</td>\n",
       "      <td>False</td>\n",
       "      <td>False</td>\n",
       "      <td>False</td>\n",
       "      <td>False</td>\n",
       "      <td>False</td>\n",
       "      <td>False</td>\n",
       "    </tr>\n",
       "    <tr>\n",
       "      <th>2</th>\n",
       "      <td>False</td>\n",
       "      <td>False</td>\n",
       "      <td>False</td>\n",
       "      <td>False</td>\n",
       "      <td>False</td>\n",
       "      <td>False</td>\n",
       "      <td>False</td>\n",
       "      <td>False</td>\n",
       "      <td>False</td>\n",
       "      <td>False</td>\n",
       "      <td>...</td>\n",
       "      <td>False</td>\n",
       "      <td>False</td>\n",
       "      <td>False</td>\n",
       "      <td>False</td>\n",
       "      <td>False</td>\n",
       "      <td>False</td>\n",
       "      <td>False</td>\n",
       "      <td>False</td>\n",
       "      <td>False</td>\n",
       "      <td>False</td>\n",
       "    </tr>\n",
       "    <tr>\n",
       "      <th>3</th>\n",
       "      <td>False</td>\n",
       "      <td>False</td>\n",
       "      <td>False</td>\n",
       "      <td>False</td>\n",
       "      <td>False</td>\n",
       "      <td>False</td>\n",
       "      <td>False</td>\n",
       "      <td>False</td>\n",
       "      <td>False</td>\n",
       "      <td>False</td>\n",
       "      <td>...</td>\n",
       "      <td>False</td>\n",
       "      <td>False</td>\n",
       "      <td>False</td>\n",
       "      <td>False</td>\n",
       "      <td>False</td>\n",
       "      <td>False</td>\n",
       "      <td>False</td>\n",
       "      <td>False</td>\n",
       "      <td>False</td>\n",
       "      <td>False</td>\n",
       "    </tr>\n",
       "    <tr>\n",
       "      <th>4</th>\n",
       "      <td>False</td>\n",
       "      <td>False</td>\n",
       "      <td>False</td>\n",
       "      <td>False</td>\n",
       "      <td>False</td>\n",
       "      <td>False</td>\n",
       "      <td>False</td>\n",
       "      <td>False</td>\n",
       "      <td>False</td>\n",
       "      <td>False</td>\n",
       "      <td>...</td>\n",
       "      <td>False</td>\n",
       "      <td>False</td>\n",
       "      <td>False</td>\n",
       "      <td>False</td>\n",
       "      <td>False</td>\n",
       "      <td>False</td>\n",
       "      <td>False</td>\n",
       "      <td>False</td>\n",
       "      <td>False</td>\n",
       "      <td>False</td>\n",
       "    </tr>\n",
       "    <tr>\n",
       "      <th>...</th>\n",
       "      <td>...</td>\n",
       "      <td>...</td>\n",
       "      <td>...</td>\n",
       "      <td>...</td>\n",
       "      <td>...</td>\n",
       "      <td>...</td>\n",
       "      <td>...</td>\n",
       "      <td>...</td>\n",
       "      <td>...</td>\n",
       "      <td>...</td>\n",
       "      <td>...</td>\n",
       "      <td>...</td>\n",
       "      <td>...</td>\n",
       "      <td>...</td>\n",
       "      <td>...</td>\n",
       "      <td>...</td>\n",
       "      <td>...</td>\n",
       "      <td>...</td>\n",
       "      <td>...</td>\n",
       "      <td>...</td>\n",
       "      <td>...</td>\n",
       "    </tr>\n",
       "    <tr>\n",
       "      <th>76015</th>\n",
       "      <td>False</td>\n",
       "      <td>False</td>\n",
       "      <td>False</td>\n",
       "      <td>False</td>\n",
       "      <td>False</td>\n",
       "      <td>False</td>\n",
       "      <td>False</td>\n",
       "      <td>False</td>\n",
       "      <td>False</td>\n",
       "      <td>False</td>\n",
       "      <td>...</td>\n",
       "      <td>False</td>\n",
       "      <td>False</td>\n",
       "      <td>False</td>\n",
       "      <td>False</td>\n",
       "      <td>False</td>\n",
       "      <td>False</td>\n",
       "      <td>False</td>\n",
       "      <td>False</td>\n",
       "      <td>False</td>\n",
       "      <td>False</td>\n",
       "    </tr>\n",
       "    <tr>\n",
       "      <th>76016</th>\n",
       "      <td>False</td>\n",
       "      <td>False</td>\n",
       "      <td>False</td>\n",
       "      <td>False</td>\n",
       "      <td>False</td>\n",
       "      <td>False</td>\n",
       "      <td>False</td>\n",
       "      <td>False</td>\n",
       "      <td>False</td>\n",
       "      <td>False</td>\n",
       "      <td>...</td>\n",
       "      <td>False</td>\n",
       "      <td>False</td>\n",
       "      <td>False</td>\n",
       "      <td>False</td>\n",
       "      <td>False</td>\n",
       "      <td>False</td>\n",
       "      <td>False</td>\n",
       "      <td>False</td>\n",
       "      <td>False</td>\n",
       "      <td>False</td>\n",
       "    </tr>\n",
       "    <tr>\n",
       "      <th>76017</th>\n",
       "      <td>False</td>\n",
       "      <td>False</td>\n",
       "      <td>False</td>\n",
       "      <td>False</td>\n",
       "      <td>False</td>\n",
       "      <td>False</td>\n",
       "      <td>False</td>\n",
       "      <td>False</td>\n",
       "      <td>False</td>\n",
       "      <td>False</td>\n",
       "      <td>...</td>\n",
       "      <td>False</td>\n",
       "      <td>False</td>\n",
       "      <td>False</td>\n",
       "      <td>False</td>\n",
       "      <td>False</td>\n",
       "      <td>False</td>\n",
       "      <td>False</td>\n",
       "      <td>False</td>\n",
       "      <td>False</td>\n",
       "      <td>False</td>\n",
       "    </tr>\n",
       "    <tr>\n",
       "      <th>76018</th>\n",
       "      <td>False</td>\n",
       "      <td>False</td>\n",
       "      <td>False</td>\n",
       "      <td>False</td>\n",
       "      <td>False</td>\n",
       "      <td>False</td>\n",
       "      <td>False</td>\n",
       "      <td>False</td>\n",
       "      <td>False</td>\n",
       "      <td>False</td>\n",
       "      <td>...</td>\n",
       "      <td>False</td>\n",
       "      <td>False</td>\n",
       "      <td>False</td>\n",
       "      <td>False</td>\n",
       "      <td>False</td>\n",
       "      <td>False</td>\n",
       "      <td>False</td>\n",
       "      <td>False</td>\n",
       "      <td>False</td>\n",
       "      <td>False</td>\n",
       "    </tr>\n",
       "    <tr>\n",
       "      <th>76019</th>\n",
       "      <td>False</td>\n",
       "      <td>False</td>\n",
       "      <td>False</td>\n",
       "      <td>False</td>\n",
       "      <td>False</td>\n",
       "      <td>False</td>\n",
       "      <td>False</td>\n",
       "      <td>False</td>\n",
       "      <td>False</td>\n",
       "      <td>False</td>\n",
       "      <td>...</td>\n",
       "      <td>False</td>\n",
       "      <td>False</td>\n",
       "      <td>False</td>\n",
       "      <td>False</td>\n",
       "      <td>False</td>\n",
       "      <td>False</td>\n",
       "      <td>False</td>\n",
       "      <td>False</td>\n",
       "      <td>False</td>\n",
       "      <td>False</td>\n",
       "    </tr>\n",
       "  </tbody>\n",
       "</table>\n",
       "<p>76020 rows × 371 columns</p>\n",
       "</div>"
      ],
      "text/plain": [
       "          ID   var3  var15  imp_ent_var16_ult1  imp_op_var39_comer_ult1  \\\n",
       "0      False  False  False               False                    False   \n",
       "1      False  False  False               False                    False   \n",
       "2      False  False  False               False                    False   \n",
       "3      False  False  False               False                    False   \n",
       "4      False  False  False               False                    False   \n",
       "...      ...    ...    ...                 ...                      ...   \n",
       "76015  False  False  False               False                    False   \n",
       "76016  False  False  False               False                    False   \n",
       "76017  False  False  False               False                    False   \n",
       "76018  False  False  False               False                    False   \n",
       "76019  False  False  False               False                    False   \n",
       "\n",
       "       imp_op_var39_comer_ult3  imp_op_var40_comer_ult1  \\\n",
       "0                        False                    False   \n",
       "1                        False                    False   \n",
       "2                        False                    False   \n",
       "3                        False                    False   \n",
       "4                        False                    False   \n",
       "...                        ...                      ...   \n",
       "76015                    False                    False   \n",
       "76016                    False                    False   \n",
       "76017                    False                    False   \n",
       "76018                    False                    False   \n",
       "76019                    False                    False   \n",
       "\n",
       "       imp_op_var40_comer_ult3  imp_op_var40_efect_ult1  \\\n",
       "0                        False                    False   \n",
       "1                        False                    False   \n",
       "2                        False                    False   \n",
       "3                        False                    False   \n",
       "4                        False                    False   \n",
       "...                        ...                      ...   \n",
       "76015                    False                    False   \n",
       "76016                    False                    False   \n",
       "76017                    False                    False   \n",
       "76018                    False                    False   \n",
       "76019                    False                    False   \n",
       "\n",
       "       imp_op_var40_efect_ult3  ...  saldo_medio_var33_hace2  \\\n",
       "0                        False  ...                    False   \n",
       "1                        False  ...                    False   \n",
       "2                        False  ...                    False   \n",
       "3                        False  ...                    False   \n",
       "4                        False  ...                    False   \n",
       "...                        ...  ...                      ...   \n",
       "76015                    False  ...                    False   \n",
       "76016                    False  ...                    False   \n",
       "76017                    False  ...                    False   \n",
       "76018                    False  ...                    False   \n",
       "76019                    False  ...                    False   \n",
       "\n",
       "       saldo_medio_var33_hace3  saldo_medio_var33_ult1  \\\n",
       "0                        False                   False   \n",
       "1                        False                   False   \n",
       "2                        False                   False   \n",
       "3                        False                   False   \n",
       "4                        False                   False   \n",
       "...                        ...                     ...   \n",
       "76015                    False                   False   \n",
       "76016                    False                   False   \n",
       "76017                    False                   False   \n",
       "76018                    False                   False   \n",
       "76019                    False                   False   \n",
       "\n",
       "       saldo_medio_var33_ult3  saldo_medio_var44_hace2  \\\n",
       "0                       False                    False   \n",
       "1                       False                    False   \n",
       "2                       False                    False   \n",
       "3                       False                    False   \n",
       "4                       False                    False   \n",
       "...                       ...                      ...   \n",
       "76015                   False                    False   \n",
       "76016                   False                    False   \n",
       "76017                   False                    False   \n",
       "76018                   False                    False   \n",
       "76019                   False                    False   \n",
       "\n",
       "       saldo_medio_var44_hace3  saldo_medio_var44_ult1  \\\n",
       "0                        False                   False   \n",
       "1                        False                   False   \n",
       "2                        False                   False   \n",
       "3                        False                   False   \n",
       "4                        False                   False   \n",
       "...                        ...                     ...   \n",
       "76015                    False                   False   \n",
       "76016                    False                   False   \n",
       "76017                    False                   False   \n",
       "76018                    False                   False   \n",
       "76019                    False                   False   \n",
       "\n",
       "       saldo_medio_var44_ult3  var38  TARGET  \n",
       "0                       False  False   False  \n",
       "1                       False  False   False  \n",
       "2                       False  False   False  \n",
       "3                       False  False   False  \n",
       "4                       False  False   False  \n",
       "...                       ...    ...     ...  \n",
       "76015                   False  False   False  \n",
       "76016                   False  False   False  \n",
       "76017                   False  False   False  \n",
       "76018                   False  False   False  \n",
       "76019                   False  False   False  \n",
       "\n",
       "[76020 rows x 371 columns]"
      ]
     },
     "execution_count": 33,
     "metadata": {},
     "output_type": "execute_result"
    }
   ],
   "source": [
    "trainData.isnull()"
   ]
  },
  {
   "cell_type": "code",
   "execution_count": 35,
   "id": "3a861127",
   "metadata": {},
   "outputs": [
    {
     "data": {
      "text/plain": [
       "ID                         0\n",
       "var3                       0\n",
       "var15                      0\n",
       "imp_ent_var16_ult1         0\n",
       "imp_op_var39_comer_ult1    0\n",
       "                          ..\n",
       "saldo_medio_var44_hace3    0\n",
       "saldo_medio_var44_ult1     0\n",
       "saldo_medio_var44_ult3     0\n",
       "var38                      0\n",
       "TARGET                     0\n",
       "Length: 371, dtype: int64"
      ]
     },
     "execution_count": 35,
     "metadata": {},
     "output_type": "execute_result"
    }
   ],
   "source": [
    "trainData.isnull().sum()"
   ]
  },
  {
   "cell_type": "markdown",
   "id": "b090daa0",
   "metadata": {},
   "source": [
    "no missing vals in dataset"
   ]
  },
  {
   "cell_type": "code",
   "execution_count": 39,
   "id": "16b822fb",
   "metadata": {},
   "outputs": [
    {
     "data": {
      "text/plain": [
       "2"
      ]
     },
     "execution_count": 39,
     "metadata": {},
     "output_type": "execute_result"
    }
   ],
   "source": [
    "trainData['TARGET'].nunique()"
   ]
  },
  {
   "cell_type": "code",
   "execution_count": 40,
   "id": "a43ce27d",
   "metadata": {},
   "outputs": [
    {
     "data": {
      "text/plain": [
       "TARGET\n",
       "0    73012\n",
       "1     3008\n",
       "Name: count, dtype: int64"
      ]
     },
     "execution_count": 40,
     "metadata": {},
     "output_type": "execute_result"
    }
   ],
   "source": [
    "trainData['TARGET'].value_counts()"
   ]
  },
  {
   "cell_type": "markdown",
   "id": "07b4a251",
   "metadata": {},
   "source": [
    "target var is imbalanced"
   ]
  },
  {
   "cell_type": "code",
   "execution_count": 41,
   "id": "1d973d3d",
   "metadata": {},
   "outputs": [],
   "source": [
    "from sklearn.utils import resample"
   ]
  },
  {
   "cell_type": "code",
   "execution_count": 47,
   "id": "0652341c",
   "metadata": {},
   "outputs": [],
   "source": [
    "majorDF = trainData[trainData['TARGET'] == 0]\n",
    "upSampledDF = pd.concat([majorDF, resample(trainData[trainData['TARGET'] == 1], \n",
    "                       replace = True, \n",
    "                       n_samples = len(majorDF),\n",
    "                       random_state=727)])"
   ]
  },
  {
   "cell_type": "code",
   "execution_count": 49,
   "id": "46becb37",
   "metadata": {},
   "outputs": [
    {
     "data": {
      "text/plain": [
       "TARGET\n",
       "0    73012\n",
       "1    73012\n",
       "Name: count, dtype: int64"
      ]
     },
     "execution_count": 49,
     "metadata": {},
     "output_type": "execute_result"
    }
   ],
   "source": [
    "upSampledDF.TARGET.value_counts()"
   ]
  },
  {
   "cell_type": "code",
   "execution_count": 50,
   "id": "3f767e0b",
   "metadata": {},
   "outputs": [
    {
     "data": {
      "text/plain": [
       "(146024, 371)"
      ]
     },
     "execution_count": 50,
     "metadata": {},
     "output_type": "execute_result"
    }
   ],
   "source": [
    "upSampledDF.shape"
   ]
  },
  {
   "cell_type": "code",
   "execution_count": 51,
   "id": "81c97a63",
   "metadata": {},
   "outputs": [
    {
     "data": {
      "text/plain": [
       "Index(['ID', 'var3', 'var15', 'imp_ent_var16_ult1', 'imp_op_var39_comer_ult1',\n",
       "       'imp_op_var39_comer_ult3', 'imp_op_var40_comer_ult1',\n",
       "       'imp_op_var40_comer_ult3', 'imp_op_var40_efect_ult1',\n",
       "       'imp_op_var40_efect_ult3',\n",
       "       ...\n",
       "       'saldo_medio_var33_hace2', 'saldo_medio_var33_hace3',\n",
       "       'saldo_medio_var33_ult1', 'saldo_medio_var33_ult3',\n",
       "       'saldo_medio_var44_hace2', 'saldo_medio_var44_hace3',\n",
       "       'saldo_medio_var44_ult1', 'saldo_medio_var44_ult3', 'var38', 'TARGET'],\n",
       "      dtype='object', length=371)"
      ]
     },
     "execution_count": 51,
     "metadata": {},
     "output_type": "execute_result"
    }
   ],
   "source": [
    "upSampledDF.columns"
   ]
  },
  {
   "cell_type": "code",
   "execution_count": 52,
   "id": "e939906b",
   "metadata": {},
   "outputs": [],
   "source": [
    "corr_matrix = trainData.corr(method=\"pearson\").abs()"
   ]
  },
  {
   "cell_type": "code",
   "execution_count": 53,
   "id": "852eeca0",
   "metadata": {},
   "outputs": [],
   "source": [
    "import numpy as np\n",
    "threshold = 0.65\n",
    "upper = corr_matrix.where(np.triu(np.ones(corr_matrix.shape), k = 1).astype(bool))"
   ]
  },
  {
   "cell_type": "code",
   "execution_count": 54,
   "id": "e68b12a0",
   "metadata": {},
   "outputs": [],
   "source": [
    "toDrop = [column for column in upper.columns if any(upper[column] > threshold)]\n",
    "trainData = trainData.drop(columns=toDrop)"
   ]
  },
  {
   "cell_type": "code",
   "execution_count": 55,
   "id": "5067db66",
   "metadata": {},
   "outputs": [
    {
     "name": "stderr",
     "output_type": "stream",
     "text": [
      "c:\\Users\\Hp\\AppData\\Local\\Programs\\Python\\Python312\\Lib\\site-packages\\sklearn\\feature_selection\\_univariate_selection.py:112: UserWarning: Features [ 11  12  27  28  29  30  38  39  40  45  46  47  48  50  51  52  60  61\n",
      "  63  65  77  78  86  88  91  93  97  98 106 107 111 112 113 120] are constant.\n",
      "  warnings.warn(\"Features %s are constant.\" % constant_features_idx, UserWarning)\n",
      "c:\\Users\\Hp\\AppData\\Local\\Programs\\Python\\Python312\\Lib\\site-packages\\sklearn\\feature_selection\\_univariate_selection.py:113: RuntimeWarning: invalid value encountered in divide\n",
      "  f = msb / msw\n"
     ]
    },
    {
     "name": "stdout",
     "output_type": "stream",
     "text": [
      "['var15', 'ind_var5', 'ind_var12_0', 'ind_var13_0', 'ind_var39_0']\n"
     ]
    }
   ],
   "source": [
    "from sklearn.feature_selection import SelectKBest\n",
    "df_copy = trainData.copy()\n",
    "X = df_copy.drop('TARGET', axis = 1)\n",
    "Y = df_copy['TARGET']\n",
    "selector = SelectKBest(k=5)\n",
    "X_new = selector.fit_transform(X,Y)\n",
    "selected_features = X.columns[selector.get_support()]\n",
    "print(selected_features.tolist())"
   ]
  },
  {
   "cell_type": "markdown",
   "id": "2333c915",
   "metadata": {},
   "source": [
    "### Q4"
   ]
  },
  {
   "cell_type": "code",
   "execution_count": null,
   "id": "bf264ebd",
   "metadata": {},
   "outputs": [],
   "source": []
  }
 ],
 "metadata": {
  "kernelspec": {
   "display_name": "Python 3",
   "language": "python",
   "name": "python3"
  },
  "language_info": {
   "codemirror_mode": {
    "name": "ipython",
    "version": 3
   },
   "file_extension": ".py",
   "mimetype": "text/x-python",
   "name": "python",
   "nbconvert_exporter": "python",
   "pygments_lexer": "ipython3",
   "version": "3.12.6"
  }
 },
 "nbformat": 4,
 "nbformat_minor": 5
}
