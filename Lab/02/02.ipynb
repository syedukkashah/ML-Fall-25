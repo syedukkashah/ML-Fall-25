{
 "cells": [
  {
   "cell_type": "markdown",
   "id": "fe0e42cb",
   "metadata": {},
   "source": [
    "### Q1"
   ]
  },
  {
   "cell_type": "code",
   "execution_count": 69,
   "id": "646c2181",
   "metadata": {},
   "outputs": [],
   "source": [
    "import pandas as pd"
   ]
  },
  {
   "cell_type": "code",
   "execution_count": 70,
   "id": "14b70816",
   "metadata": {},
   "outputs": [],
   "source": [
    "d1a = pd.read_csv('Lab2 D1A.csv')\n",
    "d1b = pd.read_csv('Lab2 D1B.csv')\n",
    "d1c = pd.read_csv('Lab2 D1C.csv')"
   ]
  },
  {
   "cell_type": "code",
   "execution_count": 71,
   "id": "26996ff7",
   "metadata": {},
   "outputs": [
    {
     "data": {
      "text/html": [
       "<div>\n",
       "<style scoped>\n",
       "    .dataframe tbody tr th:only-of-type {\n",
       "        vertical-align: middle;\n",
       "    }\n",
       "\n",
       "    .dataframe tbody tr th {\n",
       "        vertical-align: top;\n",
       "    }\n",
       "\n",
       "    .dataframe thead th {\n",
       "        text-align: right;\n",
       "    }\n",
       "</style>\n",
       "<table border=\"1\" class=\"dataframe\">\n",
       "  <thead>\n",
       "    <tr style=\"text-align: right;\">\n",
       "      <th></th>\n",
       "      <th>fid</th>\n",
       "      <th>name</th>\n",
       "      <th>population</th>\n",
       "      <th>county</th>\n",
       "      <th>latitude</th>\n",
       "    </tr>\n",
       "  </thead>\n",
       "  <tbody>\n",
       "    <tr>\n",
       "      <th>0</th>\n",
       "      <td>9001</td>\n",
       "      <td>NEW ENGLAND CHRISTIAN ACADEMY</td>\n",
       "      <td>136</td>\n",
       "      <td>BRISTOL</td>\n",
       "      <td>41.758597</td>\n",
       "    </tr>\n",
       "    <tr>\n",
       "      <th>1</th>\n",
       "      <td>9002</td>\n",
       "      <td>SETON ACADEMY FOR GIRLS</td>\n",
       "      <td>57</td>\n",
       "      <td>BRISTOL</td>\n",
       "      <td>41.718407</td>\n",
       "    </tr>\n",
       "    <tr>\n",
       "      <th>2</th>\n",
       "      <td>9003</td>\n",
       "      <td>ST ANNA SCHOOL</td>\n",
       "      <td>157</td>\n",
       "      <td>WORCESTER</td>\n",
       "      <td>42.517271</td>\n",
       "    </tr>\n",
       "    <tr>\n",
       "      <th>3</th>\n",
       "      <td>9004</td>\n",
       "      <td>SOUTHEAST ALTERNATIVE SCHOOL-MIDDLE SCHOOL</td>\n",
       "      <td>5</td>\n",
       "      <td>PLYMOUTH</td>\n",
       "      <td>41.818210</td>\n",
       "    </tr>\n",
       "    <tr>\n",
       "      <th>4</th>\n",
       "      <td>9005</td>\n",
       "      <td>DEVEREUX SCHOOL</td>\n",
       "      <td>123</td>\n",
       "      <td>WORCESTER</td>\n",
       "      <td>42.383875</td>\n",
       "    </tr>\n",
       "  </tbody>\n",
       "</table>\n",
       "</div>"
      ],
      "text/plain": [
       "    fid                                        name  population     county  \\\n",
       "0  9001               NEW ENGLAND CHRISTIAN ACADEMY         136    BRISTOL   \n",
       "1  9002                     SETON ACADEMY FOR GIRLS          57    BRISTOL   \n",
       "2  9003                              ST ANNA SCHOOL         157  WORCESTER   \n",
       "3  9004  SOUTHEAST ALTERNATIVE SCHOOL-MIDDLE SCHOOL           5   PLYMOUTH   \n",
       "4  9005                             DEVEREUX SCHOOL         123  WORCESTER   \n",
       "\n",
       "    latitude  \n",
       "0  41.758597  \n",
       "1  41.718407  \n",
       "2  42.517271  \n",
       "3  41.818210  \n",
       "4  42.383875  "
      ]
     },
     "execution_count": 71,
     "metadata": {},
     "output_type": "execute_result"
    }
   ],
   "source": [
    "d1a.head()"
   ]
  },
  {
   "cell_type": "code",
   "execution_count": 72,
   "id": "df2c8e9a",
   "metadata": {},
   "outputs": [
    {
     "data": {
      "text/html": [
       "<div>\n",
       "<style scoped>\n",
       "    .dataframe tbody tr th:only-of-type {\n",
       "        vertical-align: middle;\n",
       "    }\n",
       "\n",
       "    .dataframe tbody tr th {\n",
       "        vertical-align: top;\n",
       "    }\n",
       "\n",
       "    .dataframe thead th {\n",
       "        text-align: right;\n",
       "    }\n",
       "</style>\n",
       "<table border=\"1\" class=\"dataframe\">\n",
       "  <thead>\n",
       "    <tr style=\"text-align: right;\">\n",
       "      <th></th>\n",
       "      <th>name</th>\n",
       "      <th>population</th>\n",
       "      <th>county</th>\n",
       "      <th>longitude</th>\n",
       "      <th>level</th>\n",
       "      <th>enrollment</th>\n",
       "      <th>level.1</th>\n",
       "    </tr>\n",
       "  </thead>\n",
       "  <tbody>\n",
       "    <tr>\n",
       "      <th>0</th>\n",
       "      <td>NEW ENGLAND CHRISTIAN ACADEMY</td>\n",
       "      <td>136</td>\n",
       "      <td>BRISTOL</td>\n",
       "      <td>-71.175801</td>\n",
       "      <td>Combined elementary and secondary</td>\n",
       "      <td>120</td>\n",
       "      <td>Combined elementary and secondary</td>\n",
       "    </tr>\n",
       "    <tr>\n",
       "      <th>1</th>\n",
       "      <td>SETON ACADEMY FOR GIRLS</td>\n",
       "      <td>57</td>\n",
       "      <td>BRISTOL</td>\n",
       "      <td>-71.147302</td>\n",
       "      <td>Elementary</td>\n",
       "      <td>49</td>\n",
       "      <td>Elementary</td>\n",
       "    </tr>\n",
       "    <tr>\n",
       "      <th>2</th>\n",
       "      <td>ST ANNA SCHOOL</td>\n",
       "      <td>157</td>\n",
       "      <td>WORCESTER</td>\n",
       "      <td>-71.751741</td>\n",
       "      <td>Elementary</td>\n",
       "      <td>143</td>\n",
       "      <td>Elementary</td>\n",
       "    </tr>\n",
       "    <tr>\n",
       "      <th>3</th>\n",
       "      <td>SOUTHEAST ALTERNATIVE SCHOOL-MIDDLE SCHOOL</td>\n",
       "      <td>5</td>\n",
       "      <td>PLYMOUTH</td>\n",
       "      <td>-71.083393</td>\n",
       "      <td>Elementary</td>\n",
       "      <td>4</td>\n",
       "      <td>Elementary</td>\n",
       "    </tr>\n",
       "    <tr>\n",
       "      <th>4</th>\n",
       "      <td>DEVEREUX SCHOOL</td>\n",
       "      <td>123</td>\n",
       "      <td>WORCESTER</td>\n",
       "      <td>-71.968419</td>\n",
       "      <td>Combined elementary and secondary</td>\n",
       "      <td>107</td>\n",
       "      <td>Combined elementary and secondary</td>\n",
       "    </tr>\n",
       "  </tbody>\n",
       "</table>\n",
       "</div>"
      ],
      "text/plain": [
       "                                         name  population     county  \\\n",
       "0               NEW ENGLAND CHRISTIAN ACADEMY         136    BRISTOL   \n",
       "1                     SETON ACADEMY FOR GIRLS          57    BRISTOL   \n",
       "2                              ST ANNA SCHOOL         157  WORCESTER   \n",
       "3  SOUTHEAST ALTERNATIVE SCHOOL-MIDDLE SCHOOL           5   PLYMOUTH   \n",
       "4                             DEVEREUX SCHOOL         123  WORCESTER   \n",
       "\n",
       "   longitude                              level  enrollment  \\\n",
       "0 -71.175801  Combined elementary and secondary         120   \n",
       "1 -71.147302                         Elementary          49   \n",
       "2 -71.751741                         Elementary         143   \n",
       "3 -71.083393                         Elementary           4   \n",
       "4 -71.968419  Combined elementary and secondary         107   \n",
       "\n",
       "                             level.1  \n",
       "0  Combined elementary and secondary  \n",
       "1                         Elementary  \n",
       "2                         Elementary  \n",
       "3                         Elementary  \n",
       "4  Combined elementary and secondary  "
      ]
     },
     "execution_count": 72,
     "metadata": {},
     "output_type": "execute_result"
    }
   ],
   "source": [
    "d1b.head()"
   ]
  },
  {
   "cell_type": "code",
   "execution_count": 73,
   "id": "bd31b1a1",
   "metadata": {},
   "outputs": [
    {
     "name": "stdout",
     "output_type": "stream",
     "text": [
      "<class 'pandas.core.frame.DataFrame'>\n",
      "RangeIndex: 26983 entries, 0 to 26982\n",
      "Data columns (total 5 columns):\n",
      " #   Column      Non-Null Count  Dtype  \n",
      "---  ------      --------------  -----  \n",
      " 0   fid         26983 non-null  int64  \n",
      " 1   name        26983 non-null  object \n",
      " 2   population  26983 non-null  int64  \n",
      " 3   county      26983 non-null  object \n",
      " 4   latitude    26983 non-null  float64\n",
      "dtypes: float64(1), int64(2), object(2)\n",
      "memory usage: 1.0+ MB\n"
     ]
    }
   ],
   "source": [
    "d1a.info()"
   ]
  },
  {
   "cell_type": "code",
   "execution_count": 74,
   "id": "eb56489e",
   "metadata": {},
   "outputs": [
    {
     "name": "stdout",
     "output_type": "stream",
     "text": [
      "<class 'pandas.core.frame.DataFrame'>\n",
      "RangeIndex: 26983 entries, 0 to 26982\n",
      "Data columns (total 7 columns):\n",
      " #   Column      Non-Null Count  Dtype  \n",
      "---  ------      --------------  -----  \n",
      " 0   name        26983 non-null  object \n",
      " 1   population  26983 non-null  int64  \n",
      " 2   county      26983 non-null  object \n",
      " 3   longitude   26983 non-null  float64\n",
      " 4   level       26983 non-null  object \n",
      " 5   enrollment  26983 non-null  int64  \n",
      " 6   level.1     26983 non-null  object \n",
      "dtypes: float64(1), int64(2), object(4)\n",
      "memory usage: 1.4+ MB\n"
     ]
    }
   ],
   "source": [
    "d1b.info()"
   ]
  },
  {
   "cell_type": "code",
   "execution_count": 75,
   "id": "b749fa1e",
   "metadata": {},
   "outputs": [
    {
     "data": {
      "text/plain": [
       "{'county', 'name', 'population'}"
      ]
     },
     "execution_count": 75,
     "metadata": {},
     "output_type": "execute_result"
    }
   ],
   "source": [
    "set(d1a.columns).intersection(set(d1b.columns))"
   ]
  },
  {
   "cell_type": "code",
   "execution_count": 76,
   "id": "847775a2",
   "metadata": {},
   "outputs": [],
   "source": [
    "mergedData = d1a.merge(d1b, how = \"inner\", on = [\"name\", \"population\", \"county\"])"
   ]
  },
  {
   "cell_type": "code",
   "execution_count": 77,
   "id": "d9137bc6",
   "metadata": {},
   "outputs": [
    {
     "data": {
      "text/html": [
       "<div>\n",
       "<style scoped>\n",
       "    .dataframe tbody tr th:only-of-type {\n",
       "        vertical-align: middle;\n",
       "    }\n",
       "\n",
       "    .dataframe tbody tr th {\n",
       "        vertical-align: top;\n",
       "    }\n",
       "\n",
       "    .dataframe thead th {\n",
       "        text-align: right;\n",
       "    }\n",
       "</style>\n",
       "<table border=\"1\" class=\"dataframe\">\n",
       "  <thead>\n",
       "    <tr style=\"text-align: right;\">\n",
       "      <th></th>\n",
       "      <th>fid</th>\n",
       "      <th>name</th>\n",
       "      <th>population</th>\n",
       "      <th>county</th>\n",
       "      <th>latitude</th>\n",
       "      <th>longitude</th>\n",
       "      <th>level</th>\n",
       "      <th>enrollment</th>\n",
       "      <th>level.1</th>\n",
       "    </tr>\n",
       "  </thead>\n",
       "  <tbody>\n",
       "    <tr>\n",
       "      <th>0</th>\n",
       "      <td>9001</td>\n",
       "      <td>NEW ENGLAND CHRISTIAN ACADEMY</td>\n",
       "      <td>136</td>\n",
       "      <td>BRISTOL</td>\n",
       "      <td>41.758597</td>\n",
       "      <td>-71.175801</td>\n",
       "      <td>Combined elementary and secondary</td>\n",
       "      <td>120</td>\n",
       "      <td>Combined elementary and secondary</td>\n",
       "    </tr>\n",
       "    <tr>\n",
       "      <th>1</th>\n",
       "      <td>9002</td>\n",
       "      <td>SETON ACADEMY FOR GIRLS</td>\n",
       "      <td>57</td>\n",
       "      <td>BRISTOL</td>\n",
       "      <td>41.718407</td>\n",
       "      <td>-71.147302</td>\n",
       "      <td>Elementary</td>\n",
       "      <td>49</td>\n",
       "      <td>Elementary</td>\n",
       "    </tr>\n",
       "    <tr>\n",
       "      <th>2</th>\n",
       "      <td>9003</td>\n",
       "      <td>ST ANNA SCHOOL</td>\n",
       "      <td>157</td>\n",
       "      <td>WORCESTER</td>\n",
       "      <td>42.517271</td>\n",
       "      <td>-71.751741</td>\n",
       "      <td>Elementary</td>\n",
       "      <td>143</td>\n",
       "      <td>Elementary</td>\n",
       "    </tr>\n",
       "    <tr>\n",
       "      <th>3</th>\n",
       "      <td>9004</td>\n",
       "      <td>SOUTHEAST ALTERNATIVE SCHOOL-MIDDLE SCHOOL</td>\n",
       "      <td>5</td>\n",
       "      <td>PLYMOUTH</td>\n",
       "      <td>41.818210</td>\n",
       "      <td>-71.083393</td>\n",
       "      <td>Elementary</td>\n",
       "      <td>4</td>\n",
       "      <td>Elementary</td>\n",
       "    </tr>\n",
       "    <tr>\n",
       "      <th>4</th>\n",
       "      <td>9005</td>\n",
       "      <td>DEVEREUX SCHOOL</td>\n",
       "      <td>123</td>\n",
       "      <td>WORCESTER</td>\n",
       "      <td>42.383875</td>\n",
       "      <td>-71.968419</td>\n",
       "      <td>Combined elementary and secondary</td>\n",
       "      <td>107</td>\n",
       "      <td>Combined elementary and secondary</td>\n",
       "    </tr>\n",
       "    <tr>\n",
       "      <th>...</th>\n",
       "      <td>...</td>\n",
       "      <td>...</td>\n",
       "      <td>...</td>\n",
       "      <td>...</td>\n",
       "      <td>...</td>\n",
       "      <td>...</td>\n",
       "      <td>...</td>\n",
       "      <td>...</td>\n",
       "      <td>...</td>\n",
       "    </tr>\n",
       "    <tr>\n",
       "      <th>27028</th>\n",
       "      <td>20996</td>\n",
       "      <td>MOST PRECIOUS BLOOD</td>\n",
       "      <td>33</td>\n",
       "      <td>WAUPACA</td>\n",
       "      <td>44.386281</td>\n",
       "      <td>-88.739200</td>\n",
       "      <td>Elementary</td>\n",
       "      <td>28</td>\n",
       "      <td>Elementary</td>\n",
       "    </tr>\n",
       "    <tr>\n",
       "      <th>27029</th>\n",
       "      <td>20997</td>\n",
       "      <td>STARR ACADEMY</td>\n",
       "      <td>29</td>\n",
       "      <td>WAUPACA</td>\n",
       "      <td>44.308621</td>\n",
       "      <td>-88.848294</td>\n",
       "      <td>Secondary</td>\n",
       "      <td>21</td>\n",
       "      <td>Secondary</td>\n",
       "    </tr>\n",
       "    <tr>\n",
       "      <th>27030</th>\n",
       "      <td>20998</td>\n",
       "      <td>ST JOHN'S LUTHERAN SCHOOL</td>\n",
       "      <td>24</td>\n",
       "      <td>WAUSHARA</td>\n",
       "      <td>44.202182</td>\n",
       "      <td>-88.886093</td>\n",
       "      <td>Elementary</td>\n",
       "      <td>22</td>\n",
       "      <td>Elementary</td>\n",
       "    </tr>\n",
       "    <tr>\n",
       "      <th>27031</th>\n",
       "      <td>20999</td>\n",
       "      <td>FAITH CHRISTIAN ACADEMY</td>\n",
       "      <td>13</td>\n",
       "      <td>WAUSHARA</td>\n",
       "      <td>44.074503</td>\n",
       "      <td>-89.294984</td>\n",
       "      <td>Elementary</td>\n",
       "      <td>11</td>\n",
       "      <td>Elementary</td>\n",
       "    </tr>\n",
       "    <tr>\n",
       "      <th>27032</th>\n",
       "      <td>21000</td>\n",
       "      <td>SHADY PINE SCHOOL</td>\n",
       "      <td>17</td>\n",
       "      <td>WAUSHARA</td>\n",
       "      <td>44.014975</td>\n",
       "      <td>-89.377692</td>\n",
       "      <td>Elementary</td>\n",
       "      <td>16</td>\n",
       "      <td>Elementary</td>\n",
       "    </tr>\n",
       "  </tbody>\n",
       "</table>\n",
       "<p>27033 rows × 9 columns</p>\n",
       "</div>"
      ],
      "text/plain": [
       "         fid                                        name  population  \\\n",
       "0       9001               NEW ENGLAND CHRISTIAN ACADEMY         136   \n",
       "1       9002                     SETON ACADEMY FOR GIRLS          57   \n",
       "2       9003                              ST ANNA SCHOOL         157   \n",
       "3       9004  SOUTHEAST ALTERNATIVE SCHOOL-MIDDLE SCHOOL           5   \n",
       "4       9005                             DEVEREUX SCHOOL         123   \n",
       "...      ...                                         ...         ...   \n",
       "27028  20996                         MOST PRECIOUS BLOOD          33   \n",
       "27029  20997                               STARR ACADEMY          29   \n",
       "27030  20998                   ST JOHN'S LUTHERAN SCHOOL          24   \n",
       "27031  20999                     FAITH CHRISTIAN ACADEMY          13   \n",
       "27032  21000                           SHADY PINE SCHOOL          17   \n",
       "\n",
       "          county   latitude  longitude                              level  \\\n",
       "0        BRISTOL  41.758597 -71.175801  Combined elementary and secondary   \n",
       "1        BRISTOL  41.718407 -71.147302                         Elementary   \n",
       "2      WORCESTER  42.517271 -71.751741                         Elementary   \n",
       "3       PLYMOUTH  41.818210 -71.083393                         Elementary   \n",
       "4      WORCESTER  42.383875 -71.968419  Combined elementary and secondary   \n",
       "...          ...        ...        ...                                ...   \n",
       "27028    WAUPACA  44.386281 -88.739200                         Elementary   \n",
       "27029    WAUPACA  44.308621 -88.848294                          Secondary   \n",
       "27030   WAUSHARA  44.202182 -88.886093                         Elementary   \n",
       "27031   WAUSHARA  44.074503 -89.294984                         Elementary   \n",
       "27032   WAUSHARA  44.014975 -89.377692                         Elementary   \n",
       "\n",
       "       enrollment                            level.1  \n",
       "0             120  Combined elementary and secondary  \n",
       "1              49                         Elementary  \n",
       "2             143                         Elementary  \n",
       "3               4                         Elementary  \n",
       "4             107  Combined elementary and secondary  \n",
       "...           ...                                ...  \n",
       "27028          28                         Elementary  \n",
       "27029          21                          Secondary  \n",
       "27030          22                         Elementary  \n",
       "27031          11                         Elementary  \n",
       "27032          16                         Elementary  \n",
       "\n",
       "[27033 rows x 9 columns]"
      ]
     },
     "execution_count": 77,
     "metadata": {},
     "output_type": "execute_result"
    }
   ],
   "source": [
    "mergedData"
   ]
  },
  {
   "cell_type": "code",
   "execution_count": 78,
   "id": "4a9baf90",
   "metadata": {},
   "outputs": [
    {
     "data": {
      "text/plain": [
       "(27033, 9)"
      ]
     },
     "execution_count": 78,
     "metadata": {},
     "output_type": "execute_result"
    }
   ],
   "source": [
    "mergedData.columns\n",
    "mergedData.shape"
   ]
  },
  {
   "cell_type": "code",
   "execution_count": 79,
   "id": "d5cd7782",
   "metadata": {},
   "outputs": [],
   "source": [
    "commonCols = list(set(d1a.columns) & set(d1c.columns))"
   ]
  },
  {
   "cell_type": "code",
   "execution_count": 80,
   "id": "4bdcbadc",
   "metadata": {},
   "outputs": [
    {
     "data": {
      "text/plain": [
       "['county']"
      ]
     },
     "execution_count": 80,
     "metadata": {},
     "output_type": "execute_result"
    }
   ],
   "source": [
    "commonCols"
   ]
  },
  {
   "cell_type": "code",
   "execution_count": 81,
   "id": "343b2580",
   "metadata": {},
   "outputs": [],
   "source": [
    "comboAC = pd.merge(d1a, d1c, how = 'inner', on = commonCols)"
   ]
  },
  {
   "cell_type": "code",
   "execution_count": 82,
   "id": "3b48c277",
   "metadata": {},
   "outputs": [
    {
     "data": {
      "text/plain": [
       "Index(['fid', 'name', 'population', 'county', 'latitude', 'city', 'score'], dtype='object')"
      ]
     },
     "execution_count": 82,
     "metadata": {},
     "output_type": "execute_result"
    }
   ],
   "source": [
    "comboAC.columns"
   ]
  },
  {
   "cell_type": "code",
   "execution_count": 83,
   "id": "615f9e47",
   "metadata": {},
   "outputs": [
    {
     "data": {
      "text/plain": [
       "(4221333, 7)"
      ]
     },
     "execution_count": 83,
     "metadata": {},
     "output_type": "execute_result"
    }
   ],
   "source": [
    "comboAC.shape"
   ]
  },
  {
   "cell_type": "code",
   "execution_count": null,
   "id": "b49477a1",
   "metadata": {},
   "outputs": [],
   "source": []
  }
 ],
 "metadata": {
  "kernelspec": {
   "display_name": "Python 3",
   "language": "python",
   "name": "python3"
  },
  "language_info": {
   "codemirror_mode": {
    "name": "ipython",
    "version": 3
   },
   "file_extension": ".py",
   "mimetype": "text/x-python",
   "name": "python",
   "nbconvert_exporter": "python",
   "pygments_lexer": "ipython3",
   "version": "3.12.6"
  }
 },
 "nbformat": 4,
 "nbformat_minor": 5
}
